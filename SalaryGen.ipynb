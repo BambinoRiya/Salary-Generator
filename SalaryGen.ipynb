{
 "cells": [
  {
   "cell_type": "markdown",
   "metadata": {},
   "source": [
    " Randomly generates time of arrival of 10 ebase employees and departure for a month\n",
    "checks the number of vowels in their name\n",
    "\n"
   ]
  },
  {
   "cell_type": "markdown",
   "metadata": {},
   "source": [
    "Assumptions made in this code\n",
    "-Arrival time must be between 7am and 12am\n",
    "-Closing time is between 1pm and 9pm\n",
    "-The pay is 750 and hour with extra 250XAF bonus per vowel name\n"
   ]
  },
  {
   "cell_type": "code",
   "execution_count": null,
   "metadata": {},
   "outputs": [],
   "source": [
    "import random \n",
    "#this imports the random module which will help us in generating the random numbers"
   ]
  },
  {
   "cell_type": "code",
   "execution_count": null,
   "metadata": {},
   "outputs": [],
   "source": [
    "#constants\n",
    "EMPLOYEES = 10\n",
    "DAYS = 30\n",
    "FIXED_AMOUNT = 750"
   ]
  },
  {
   "cell_type": "code",
   "execution_count": null,
   "metadata": {},
   "outputs": [],
   "source": [
    "#this function will help to get the number of vowels in an employees name\n",
    "def get_vowel():\n",
    "    string = input('Enter your name ')\n",
    "    vowels = 0\n",
    "    for i in string:\n",
    "        if(i == 'a' or i == 'e' or i == 'i' or i == 'o' or i == 'u' or i == 'A' or i == 'E' or\n",
    "                i == 'I' or i == 'U'):\n",
    "            vowels = vowels + 1"
   ]
  },
  {
   "cell_type": "code",
   "execution_count": null,
   "metadata": {},
   "outputs": [],
   "source": [
    "hours_arrival = random.randint(7, 12) #these variables determine the arrival or departure of employees randomly generated\n",
    "minutes_arrival = random.randint(0,60)\n",
    "\n",
    "hours_departure = random.randint(13, 21)\n",
    "minutes = random.randint(0,60)"
   ]
  },
  {
   "cell_type": "code",
   "execution_count": null,
   "metadata": {},
   "outputs": [],
   "source": [
    "#the amount of hours worked which will determine the salary\n",
    "\n",
    "rangee = hours_arrival - hours_departure \n"
   ]
  },
  {
   "cell_type": "code",
   "execution_count": null,
   "metadata": {},
   "outputs": [],
   "source": [
    "#the main function that will actually generate the salary\n",
    "def get_salary():\n",
    "    get vowel()\n",
    "    salary = string * FIXED_AMOUNT * rangee "
   ]
  },
  {
   "cell_type": "code",
   "execution_count": null,
   "metadata": {},
   "outputs": [],
   "source": [
    "#if you need the salary of a month\n",
    "def get_salary_month():\n",
    "    get_salary()\n",
    "    salary = salary * DAYS\n",
    "    "
   ]
  },
  {
   "cell_type": "markdown",
   "metadata": {},
   "source": [
    "This function could be improved by creating a function that would display the times and salaries of each employee on a table"
   ]
  }
 ],
 "metadata": {
  "kernelspec": {
   "display_name": "Python 3",
   "language": "python",
   "name": "python3"
  },
  "language_info": {
   "codemirror_mode": {
    "name": "ipython",
    "version": 3
   },
   "file_extension": ".py",
   "mimetype": "text/x-python",
   "name": "python",
   "nbconvert_exporter": "python",
   "pygments_lexer": "ipython3",
   "version": "3.9.1"
  }
 },
 "nbformat": 4,
 "nbformat_minor": 4
}
